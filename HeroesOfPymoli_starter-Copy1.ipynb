{
 "cells": [
  {
   "cell_type": "markdown",
   "metadata": {},
   "source": [
    "### Heroes Of Pymoli Data Analysis\n",
    "* Of the 1163 active players, the vast majority are male (84%). There also exists, a smaller, but notable proportion of female players (14%).\n",
    "\n",
    "* Our peak age demographic falls between 20-24 (44.8%) with secondary groups falling between 15-19 (18.60%) and 25-29 (13.4%). \n",
    "\n",
    "* Purchase analysis shows that females purchased significantly more than males and the non-disclosed gender.\n",
    "\n",
    "* Significantly larger proportions (44.8%)was made up of 20-25 year olds, followed by 15-19 year olds (18.58%).\n",
    "\n",
    "* Top spenders spent between 13$ - 19$ on games. Oathbreaker, Last Hope of Breaking Storm was the most popular one, which was purchased 12 times and made a revenue of $50.76.  \n",
    "-----"
   ]
  },
  {
   "cell_type": "markdown",
   "metadata": {},
   "source": [
    "### Note\n",
    "* Instructions have been included for each segment. You do not have to follow them exactly, but they are included to help you think through the steps."
   ]
  },
  {
   "cell_type": "code",
   "execution_count": 15,
   "metadata": {
    "scrolled": true
   },
   "outputs": [
    {
     "data": {
      "text/html": [
       "<div>\n",
       "<style scoped>\n",
       "    .dataframe tbody tr th:only-of-type {\n",
       "        vertical-align: middle;\n",
       "    }\n",
       "\n",
       "    .dataframe tbody tr th {\n",
       "        vertical-align: top;\n",
       "    }\n",
       "\n",
       "    .dataframe thead th {\n",
       "        text-align: right;\n",
       "    }\n",
       "</style>\n",
       "<table border=\"1\" class=\"dataframe\">\n",
       "  <thead>\n",
       "    <tr style=\"text-align: right;\">\n",
       "      <th></th>\n",
       "      <th>Purchase ID</th>\n",
       "      <th>SN</th>\n",
       "      <th>Age</th>\n",
       "      <th>Gender</th>\n",
       "      <th>Item ID</th>\n",
       "      <th>Item Name</th>\n",
       "      <th>Price</th>\n",
       "    </tr>\n",
       "  </thead>\n",
       "  <tbody>\n",
       "    <tr>\n",
       "      <th>0</th>\n",
       "      <td>0</td>\n",
       "      <td>Lisim78</td>\n",
       "      <td>20</td>\n",
       "      <td>Male</td>\n",
       "      <td>108</td>\n",
       "      <td>Extraction, Quickblade Of Trembling Hands</td>\n",
       "      <td>3.53</td>\n",
       "    </tr>\n",
       "    <tr>\n",
       "      <th>1</th>\n",
       "      <td>1</td>\n",
       "      <td>Lisovynya38</td>\n",
       "      <td>40</td>\n",
       "      <td>Male</td>\n",
       "      <td>143</td>\n",
       "      <td>Frenzied Scimitar</td>\n",
       "      <td>1.56</td>\n",
       "    </tr>\n",
       "    <tr>\n",
       "      <th>2</th>\n",
       "      <td>2</td>\n",
       "      <td>Ithergue48</td>\n",
       "      <td>24</td>\n",
       "      <td>Male</td>\n",
       "      <td>92</td>\n",
       "      <td>Final Critic</td>\n",
       "      <td>4.88</td>\n",
       "    </tr>\n",
       "    <tr>\n",
       "      <th>3</th>\n",
       "      <td>3</td>\n",
       "      <td>Chamassasya86</td>\n",
       "      <td>24</td>\n",
       "      <td>Male</td>\n",
       "      <td>100</td>\n",
       "      <td>Blindscythe</td>\n",
       "      <td>3.27</td>\n",
       "    </tr>\n",
       "    <tr>\n",
       "      <th>4</th>\n",
       "      <td>4</td>\n",
       "      <td>Iskosia90</td>\n",
       "      <td>23</td>\n",
       "      <td>Male</td>\n",
       "      <td>131</td>\n",
       "      <td>Fury</td>\n",
       "      <td>1.44</td>\n",
       "    </tr>\n",
       "  </tbody>\n",
       "</table>\n",
       "</div>"
      ],
      "text/plain": [
       "   Purchase ID             SN  Age Gender  Item ID  \\\n",
       "0            0        Lisim78   20   Male      108   \n",
       "1            1    Lisovynya38   40   Male      143   \n",
       "2            2     Ithergue48   24   Male       92   \n",
       "3            3  Chamassasya86   24   Male      100   \n",
       "4            4      Iskosia90   23   Male      131   \n",
       "\n",
       "                                   Item Name  Price  \n",
       "0  Extraction, Quickblade Of Trembling Hands   3.53  \n",
       "1                          Frenzied Scimitar   1.56  \n",
       "2                               Final Critic   4.88  \n",
       "3                                Blindscythe   3.27  \n",
       "4                                       Fury   1.44  "
      ]
     },
     "execution_count": 15,
     "metadata": {},
     "output_type": "execute_result"
    }
   ],
   "source": [
    "# Dependencies and Setup\n",
    "import pandas as pd\n",
    "import numpy as np\n",
    "\n",
    "# File to Load (Remember to Change Thes\n",
    "File = \"Resources/purchase_data.csv\"\n",
    "\n",
    "# Read Purchasing File and store into Pandas data frame\n",
    "purchase_data = pd.read_csv(File)\n",
    "purchase_data.head()\n"
   ]
  },
  {
   "cell_type": "markdown",
   "metadata": {},
   "source": [
    "## Player Count"
   ]
  },
  {
   "cell_type": "markdown",
   "metadata": {},
   "source": [
    "* Display the total number of players\n"
   ]
  },
  {
   "cell_type": "code",
   "execution_count": 16,
   "metadata": {
    "scrolled": true
   },
   "outputs": [],
   "source": [
    "#Player Count\n",
    "\n",
    "Players = len(purchase_data['SN'].value_counts(dropna = True))\n"
   ]
  },
  {
   "cell_type": "code",
   "execution_count": 17,
   "metadata": {},
   "outputs": [
    {
     "data": {
      "text/html": [
       "<div>\n",
       "<style scoped>\n",
       "    .dataframe tbody tr th:only-of-type {\n",
       "        vertical-align: middle;\n",
       "    }\n",
       "\n",
       "    .dataframe tbody tr th {\n",
       "        vertical-align: top;\n",
       "    }\n",
       "\n",
       "    .dataframe thead th {\n",
       "        text-align: right;\n",
       "    }\n",
       "</style>\n",
       "<table border=\"1\" class=\"dataframe\">\n",
       "  <thead>\n",
       "    <tr style=\"text-align: right;\">\n",
       "      <th></th>\n",
       "      <th>Total players</th>\n",
       "    </tr>\n",
       "  </thead>\n",
       "  <tbody>\n",
       "    <tr>\n",
       "      <th>0</th>\n",
       "      <td>576</td>\n",
       "    </tr>\n",
       "  </tbody>\n",
       "</table>\n",
       "</div>"
      ],
      "text/plain": [
       "   Total players\n",
       "0            576"
      ]
     },
     "execution_count": 17,
     "metadata": {},
     "output_type": "execute_result"
    }
   ],
   "source": [
    "Player_count = pd.DataFrame({\"Total players\": [Players]\n",
    "                             })\n",
    "Player_count\n",
    "    "
   ]
  },
  {
   "cell_type": "markdown",
   "metadata": {},
   "source": [
    "## Purchasing Analysis (Total)"
   ]
  },
  {
   "cell_type": "markdown",
   "metadata": {},
   "source": [
    "* Run basic calculations to obtain number of unique items, average price, etc.\n",
    "\n",
    "\n",
    "* Create a summary data frame to hold the results\n",
    "\n",
    "\n",
    "* Optional: give the displayed data cleaner formatting\n",
    "\n",
    "\n",
    "* Display the summary data frame\n"
   ]
  },
  {
   "cell_type": "code",
   "execution_count": 18,
   "metadata": {
    "scrolled": true
   },
   "outputs": [],
   "source": [
    "#Purchase analysis\n",
    "Number_of_Unique_Items = purchase_data['Item ID'].nunique(dropna = True)\n",
    "\n",
    "Average_price = round(purchase_data['Price'].mean(), 2)\n",
    "\n",
    "Number_of_purchase = purchase_data['Purchase ID'].count()\n",
    "\n",
    "Total_Revenue = purchase_data['Price'].sum()"
   ]
  },
  {
   "cell_type": "code",
   "execution_count": 19,
   "metadata": {},
   "outputs": [
    {
     "data": {
      "text/html": [
       "<style  type=\"text/css\" >\n",
       "</style><table id=\"T_ea2c62f4_a1fa_11e9_a4cc_c82a142f919b\" ><thead>    <tr>        <th class=\"blank level0\" ></th>        <th class=\"col_heading level0 col0\" >Number of Unique Items</th>        <th class=\"col_heading level0 col1\" >Average Price</th>        <th class=\"col_heading level0 col2\" >Number of Purchases</th>        <th class=\"col_heading level0 col3\" >Total Revenue</th>    </tr></thead><tbody>\n",
       "                <tr>\n",
       "                        <th id=\"T_ea2c62f4_a1fa_11e9_a4cc_c82a142f919blevel0_row0\" class=\"row_heading level0 row0\" >0</th>\n",
       "                        <td id=\"T_ea2c62f4_a1fa_11e9_a4cc_c82a142f919brow0_col0\" class=\"data row0 col0\" >183</td>\n",
       "                        <td id=\"T_ea2c62f4_a1fa_11e9_a4cc_c82a142f919brow0_col1\" class=\"data row0 col1\" >$3.05</td>\n",
       "                        <td id=\"T_ea2c62f4_a1fa_11e9_a4cc_c82a142f919brow0_col2\" class=\"data row0 col2\" >780</td>\n",
       "                        <td id=\"T_ea2c62f4_a1fa_11e9_a4cc_c82a142f919brow0_col3\" class=\"data row0 col3\" >$2,379.77</td>\n",
       "            </tr>\n",
       "    </tbody></table>"
      ],
      "text/plain": [
       "<pandas.io.formats.style.Styler at 0x1228f6978>"
      ]
     },
     "execution_count": 19,
     "metadata": {},
     "output_type": "execute_result"
    }
   ],
   "source": [
    "Purchase_Analysis = pd.DataFrame({\n",
    "    \"Number of Unique Items\": [Number_of_Unique_Items],\n",
    "    \"Average Price\" : [Average_price],\n",
    "    \"Number of Purchases\" : [Number_of_purchase],\n",
    "    \"Total Revenue\" : [Total_Revenue]\n",
    "})\n",
    "Purchase_Analysis   \n",
    "Purchase_Analysis.style.format({\"Average Price\":\"${:,.2f}\",\n",
    "                      \"Total Revenue\":\"${:,.2f}\"})"
   ]
  },
  {
   "cell_type": "markdown",
   "metadata": {},
   "source": [
    "## Gender Demographics"
   ]
  },
  {
   "cell_type": "markdown",
   "metadata": {},
   "source": [
    "* Percentage and Count of Male Players\n",
    "\n",
    "\n",
    "* Percentage and Count of Female Players\n",
    "\n",
    "\n",
    "* Percentage and Count of Other / Non-Disclosed\n",
    "\n",
    "\n"
   ]
  },
  {
   "cell_type": "code",
   "execution_count": 20,
   "metadata": {},
   "outputs": [
    {
     "data": {
      "text/plain": [
       "1.9097222222222223"
      ]
     },
     "execution_count": 20,
     "metadata": {},
     "output_type": "execute_result"
    }
   ],
   "source": [
    "# Gender Demographics\n",
    "Male = purchase_data[purchase_data['Gender'] == 'Male']\n",
    "Male\n",
    "Unique_Male = Male['SN'].nunique(dropna = True)\n",
    "Unique_Male\n",
    "Female = purchase_data[purchase_data['Gender'] == 'Female']\n",
    "Female\n",
    "Unique_Female = Female['SN'].nunique(dropna = True)\n",
    "Unique_Female\n",
    "Other = purchase_data[purchase_data['Gender'] == 'Other / Non-Disclosed']\n",
    "Other\n",
    "Unique_Other = Other['SN'].nunique(dropna = True)\n",
    "Unique_Other\n",
    "Total_players = purchase_data['SN'].nunique()\n",
    "Total_players\n",
    "PercentMale =  (Unique_Male / Total_players) * 100\n",
    "PercentMale\n",
    "PercentFemale = (Unique_Female / Total_players) * 100\n",
    "PercentFemale\n",
    "PercentOther =  (Unique_Other / Total_players) * 100\n",
    "PercentOther\n"
   ]
  },
  {
   "cell_type": "code",
   "execution_count": 21,
   "metadata": {},
   "outputs": [
    {
     "data": {
      "text/html": [
       "<style  type=\"text/css\" >\n",
       "</style><table id=\"T_eb9af290_a1fa_11e9_a4cc_c82a142f919b\" ><thead>    <tr>        <th class=\"blank level0\" ></th>        <th class=\"col_heading level0 col0\" >Total Count</th>        <th class=\"col_heading level0 col1\" >Percentage of Players</th>    </tr>    <tr>        <th class=\"index_name level0\" ></th>        <th class=\"blank\" ></th>        <th class=\"blank\" ></th>    </tr></thead><tbody>\n",
       "                <tr>\n",
       "                        <th id=\"T_eb9af290_a1fa_11e9_a4cc_c82a142f919blevel0_row0\" class=\"row_heading level0 row0\" >Male</th>\n",
       "                        <td id=\"T_eb9af290_a1fa_11e9_a4cc_c82a142f919brow0_col0\" class=\"data row0 col0\" >484</td>\n",
       "                        <td id=\"T_eb9af290_a1fa_11e9_a4cc_c82a142f919brow0_col1\" class=\"data row0 col1\" >84.03%</td>\n",
       "            </tr>\n",
       "            <tr>\n",
       "                        <th id=\"T_eb9af290_a1fa_11e9_a4cc_c82a142f919blevel0_row1\" class=\"row_heading level0 row1\" >Female</th>\n",
       "                        <td id=\"T_eb9af290_a1fa_11e9_a4cc_c82a142f919brow1_col0\" class=\"data row1 col0\" >81</td>\n",
       "                        <td id=\"T_eb9af290_a1fa_11e9_a4cc_c82a142f919brow1_col1\" class=\"data row1 col1\" >14.06%</td>\n",
       "            </tr>\n",
       "            <tr>\n",
       "                        <th id=\"T_eb9af290_a1fa_11e9_a4cc_c82a142f919blevel0_row2\" class=\"row_heading level0 row2\" >Other / Non-Disclosed</th>\n",
       "                        <td id=\"T_eb9af290_a1fa_11e9_a4cc_c82a142f919brow2_col0\" class=\"data row2 col0\" >11</td>\n",
       "                        <td id=\"T_eb9af290_a1fa_11e9_a4cc_c82a142f919brow2_col1\" class=\"data row2 col1\" >1.91%</td>\n",
       "            </tr>\n",
       "    </tbody></table>"
      ],
      "text/plain": [
       "<pandas.io.formats.style.Styler at 0x122844eb8>"
      ]
     },
     "execution_count": 21,
     "metadata": {},
     "output_type": "execute_result"
    }
   ],
   "source": [
    "Gender_Demo = pd.DataFrame({\n",
    "    \"\": ['Male', 'Female', 'Other / Non-Disclosed'],\n",
    "    \"Total Count\": [Unique_Male, Unique_Female, Unique_Other],\n",
    "    \"Percentage of Players\" : [PercentMale, PercentFemale, PercentOther] \n",
    "})\n",
    "columns = [\"\",\"Total Count\", \"Percentage of Players\" ]\n",
    "Gender_Demo\n",
    "\n",
    "Gender_Demographics = Gender_Demo.set_index(\"\")\n",
    "Final = Gender_Demographics.style.format({\"Percentage of Players\":\"{:,.2f}%\"})\n",
    "Final"
   ]
  },
  {
   "cell_type": "markdown",
   "metadata": {},
   "source": [
    "\n",
    "## Purchasing Analysis (Gender)"
   ]
  },
  {
   "cell_type": "markdown",
   "metadata": {},
   "source": [
    "* Run basic calculations to obtain purchase count, avg. purchase price, avg. purchase total per person etc. by gender\n",
    "\n",
    "\n",
    "\n",
    "\n",
    "* Create a summary data frame to hold the results\n",
    "\n",
    "\n",
    "* Optional: give the displayed data cleaner formatting\n",
    "\n",
    "\n",
    "* Display the summary data frame"
   ]
  },
  {
   "cell_type": "code",
   "execution_count": 22,
   "metadata": {
    "scrolled": true
   },
   "outputs": [],
   "source": [
    "#Purchase Analysis by Gender\n",
    "\n",
    "Male_Purchase = len(Male)\n",
    "Total_Male_Purchase = Male['Price'].sum()\n",
    "Av_per_Male = Total_Male_Purchase / Male_Purchase\n",
    "\n",
    "Female_Purchase = len(Female)\n",
    "Total_Female_Purchase =  Female['Price'].sum()\n",
    "Av_per_Female = Total_Female_Purchase / Female_Purchase\n",
    "\n",
    "Other_Purchase = len(Other)\n",
    "Total_Other_Purchase = Other['Price'].sum()\n",
    "Av_per_Other = Total_Other_Purchase/Other_Purchase\n",
    "\n",
    "Male_Tot_Pur_Person = Total_Male_Purchase / Unique_Male\n",
    "Female_Tot_Pur_Person = Total_Female_Purchase / Unique_Female\n",
    "Other_Tot_Pur_Person = Total_Other_Purchase / Unique_Other\n"
   ]
  },
  {
   "cell_type": "code",
   "execution_count": 23,
   "metadata": {},
   "outputs": [
    {
     "data": {
      "text/html": [
       "<style  type=\"text/css\" >\n",
       "</style><table id=\"T_ed173232_a1fa_11e9_a4cc_c82a142f919b\" ><thead>    <tr>        <th class=\"blank level0\" ></th>        <th class=\"col_heading level0 col0\" >Purchase Count</th>        <th class=\"col_heading level0 col1\" >Average Purchase Price</th>        <th class=\"col_heading level0 col2\" >Total Purchase Price</th>        <th class=\"col_heading level0 col3\" >Avg Total Purchase Per Person</th>    </tr>    <tr>        <th class=\"index_name level0\" >Gender</th>        <th class=\"blank\" ></th>        <th class=\"blank\" ></th>        <th class=\"blank\" ></th>        <th class=\"blank\" ></th>    </tr></thead><tbody>\n",
       "                <tr>\n",
       "                        <th id=\"T_ed173232_a1fa_11e9_a4cc_c82a142f919blevel0_row0\" class=\"row_heading level0 row0\" >Female</th>\n",
       "                        <td id=\"T_ed173232_a1fa_11e9_a4cc_c82a142f919brow0_col0\" class=\"data row0 col0\" >652</td>\n",
       "                        <td id=\"T_ed173232_a1fa_11e9_a4cc_c82a142f919brow0_col1\" class=\"data row0 col1\" >$3.02</td>\n",
       "                        <td id=\"T_ed173232_a1fa_11e9_a4cc_c82a142f919brow0_col2\" class=\"data row0 col2\" >$1,967.64</td>\n",
       "                        <td id=\"T_ed173232_a1fa_11e9_a4cc_c82a142f919brow0_col3\" class=\"data row0 col3\" >$4.07</td>\n",
       "            </tr>\n",
       "            <tr>\n",
       "                        <th id=\"T_ed173232_a1fa_11e9_a4cc_c82a142f919blevel0_row1\" class=\"row_heading level0 row1\" >Male</th>\n",
       "                        <td id=\"T_ed173232_a1fa_11e9_a4cc_c82a142f919brow1_col0\" class=\"data row1 col0\" >113</td>\n",
       "                        <td id=\"T_ed173232_a1fa_11e9_a4cc_c82a142f919brow1_col1\" class=\"data row1 col1\" >$3.20</td>\n",
       "                        <td id=\"T_ed173232_a1fa_11e9_a4cc_c82a142f919brow1_col2\" class=\"data row1 col2\" >$361.94</td>\n",
       "                        <td id=\"T_ed173232_a1fa_11e9_a4cc_c82a142f919brow1_col3\" class=\"data row1 col3\" >$4.47</td>\n",
       "            </tr>\n",
       "            <tr>\n",
       "                        <th id=\"T_ed173232_a1fa_11e9_a4cc_c82a142f919blevel0_row2\" class=\"row_heading level0 row2\" >Other / Non-Disclosed</th>\n",
       "                        <td id=\"T_ed173232_a1fa_11e9_a4cc_c82a142f919brow2_col0\" class=\"data row2 col0\" >15</td>\n",
       "                        <td id=\"T_ed173232_a1fa_11e9_a4cc_c82a142f919brow2_col1\" class=\"data row2 col1\" >$3.35</td>\n",
       "                        <td id=\"T_ed173232_a1fa_11e9_a4cc_c82a142f919brow2_col2\" class=\"data row2 col2\" >$50.19</td>\n",
       "                        <td id=\"T_ed173232_a1fa_11e9_a4cc_c82a142f919brow2_col3\" class=\"data row2 col3\" >$4.56</td>\n",
       "            </tr>\n",
       "    </tbody></table>"
      ],
      "text/plain": [
       "<pandas.io.formats.style.Styler at 0x1216d7908>"
      ]
     },
     "execution_count": 23,
     "metadata": {},
     "output_type": "execute_result"
    }
   ],
   "source": [
    "Purchase_by_Gender = pd.DataFrame({\n",
    "    \"Gender\": ['Female', 'Male', 'Other / Non-Disclosed'],\n",
    "    \"Purchase Count\": [Male_Purchase, Female_Purchase, Other_Purchase],\n",
    "    \"Average Purchase Price\" : [Av_per_Male, Av_per_Female, Av_per_Other],\n",
    "    \"Total Purchase Price\": [Total_Male_Purchase, Total_Female_Purchase, Total_Other_Purchase],\n",
    "    \"Avg Total Purchase Per Person\" : [Male_Tot_Pur_Person,Female_Tot_Pur_Person, Other_Tot_Pur_Person]\n",
    "    \n",
    "    \n",
    "})\n",
    "columns = [\"Gender\",\"Purchase Count\",\"Average Purchase Price\", \"Total Purchase Price\", \"Avg Total Purchase Per Person\" ]\n",
    "Purchase_by_Gender\n",
    "Purchase_by_Gender_modified = Purchase_by_Gender.set_index(\"Gender\")\n",
    "Purchase_by_Gender_modified\n",
    "\n",
    "Purchase_by_Gender_modified.style.format({\"Average Purchase Price\":\"${:,.2f}\",\n",
    "                      \"Total Purchase Price\":\"${:,.2f}\",\n",
    "                \"Avg Total Purchase Per Person\":\"${:,.2f}\" })"
   ]
  },
  {
   "cell_type": "markdown",
   "metadata": {},
   "source": [
    "## Age Demographics\n",
    "\n",
    "* Establish bins for ages\n",
    "\n",
    "\n",
    "* Categorize the existing players using the age bins. Hint: use pd.cut()\n",
    "\n",
    "\n",
    "* Calculate the numbers and percentages by age group\n",
    "\n",
    "\n",
    "* Create a summary data frame to hold the results\n",
    "\n",
    "\n",
    "* Optional: round the percentage column to two decimal points\n",
    "\n",
    "\n",
    "* Display Age Demographics Table\n"
   ]
  },
  {
   "cell_type": "code",
   "execution_count": 24,
   "metadata": {},
   "outputs": [
    {
     "data": {
      "text/html": [
       "<style  type=\"text/css\" >\n",
       "</style><table id=\"T_ee120982_a1fa_11e9_a4cc_c82a142f919b\" ><thead>    <tr>        <th class=\"blank level0\" ></th>        <th class=\"col_heading level0 col0\" >Total Count</th>        <th class=\"col_heading level0 col1\" >Percentage of Players</th>    </tr></thead><tbody>\n",
       "                <tr>\n",
       "                        <th id=\"T_ee120982_a1fa_11e9_a4cc_c82a142f919blevel0_row0\" class=\"row_heading level0 row0\" ><10</th>\n",
       "                        <td id=\"T_ee120982_a1fa_11e9_a4cc_c82a142f919brow0_col0\" class=\"data row0 col0\" >17</td>\n",
       "                        <td id=\"T_ee120982_a1fa_11e9_a4cc_c82a142f919brow0_col1\" class=\"data row0 col1\" >2.95%</td>\n",
       "            </tr>\n",
       "            <tr>\n",
       "                        <th id=\"T_ee120982_a1fa_11e9_a4cc_c82a142f919blevel0_row1\" class=\"row_heading level0 row1\" >10-14</th>\n",
       "                        <td id=\"T_ee120982_a1fa_11e9_a4cc_c82a142f919brow1_col0\" class=\"data row1 col0\" >22</td>\n",
       "                        <td id=\"T_ee120982_a1fa_11e9_a4cc_c82a142f919brow1_col1\" class=\"data row1 col1\" >3.82%</td>\n",
       "            </tr>\n",
       "            <tr>\n",
       "                        <th id=\"T_ee120982_a1fa_11e9_a4cc_c82a142f919blevel0_row2\" class=\"row_heading level0 row2\" >15-19</th>\n",
       "                        <td id=\"T_ee120982_a1fa_11e9_a4cc_c82a142f919brow2_col0\" class=\"data row2 col0\" >107</td>\n",
       "                        <td id=\"T_ee120982_a1fa_11e9_a4cc_c82a142f919brow2_col1\" class=\"data row2 col1\" >18.58%</td>\n",
       "            </tr>\n",
       "            <tr>\n",
       "                        <th id=\"T_ee120982_a1fa_11e9_a4cc_c82a142f919blevel0_row3\" class=\"row_heading level0 row3\" >20-24</th>\n",
       "                        <td id=\"T_ee120982_a1fa_11e9_a4cc_c82a142f919brow3_col0\" class=\"data row3 col0\" >258</td>\n",
       "                        <td id=\"T_ee120982_a1fa_11e9_a4cc_c82a142f919brow3_col1\" class=\"data row3 col1\" >44.79%</td>\n",
       "            </tr>\n",
       "            <tr>\n",
       "                        <th id=\"T_ee120982_a1fa_11e9_a4cc_c82a142f919blevel0_row4\" class=\"row_heading level0 row4\" >25-29</th>\n",
       "                        <td id=\"T_ee120982_a1fa_11e9_a4cc_c82a142f919brow4_col0\" class=\"data row4 col0\" >77</td>\n",
       "                        <td id=\"T_ee120982_a1fa_11e9_a4cc_c82a142f919brow4_col1\" class=\"data row4 col1\" >13.37%</td>\n",
       "            </tr>\n",
       "            <tr>\n",
       "                        <th id=\"T_ee120982_a1fa_11e9_a4cc_c82a142f919blevel0_row5\" class=\"row_heading level0 row5\" >30-34</th>\n",
       "                        <td id=\"T_ee120982_a1fa_11e9_a4cc_c82a142f919brow5_col0\" class=\"data row5 col0\" >52</td>\n",
       "                        <td id=\"T_ee120982_a1fa_11e9_a4cc_c82a142f919brow5_col1\" class=\"data row5 col1\" >9.03%</td>\n",
       "            </tr>\n",
       "            <tr>\n",
       "                        <th id=\"T_ee120982_a1fa_11e9_a4cc_c82a142f919blevel0_row6\" class=\"row_heading level0 row6\" >35-39</th>\n",
       "                        <td id=\"T_ee120982_a1fa_11e9_a4cc_c82a142f919brow6_col0\" class=\"data row6 col0\" >31</td>\n",
       "                        <td id=\"T_ee120982_a1fa_11e9_a4cc_c82a142f919brow6_col1\" class=\"data row6 col1\" >5.38%</td>\n",
       "            </tr>\n",
       "            <tr>\n",
       "                        <th id=\"T_ee120982_a1fa_11e9_a4cc_c82a142f919blevel0_row7\" class=\"row_heading level0 row7\" >40+</th>\n",
       "                        <td id=\"T_ee120982_a1fa_11e9_a4cc_c82a142f919brow7_col0\" class=\"data row7 col0\" >12</td>\n",
       "                        <td id=\"T_ee120982_a1fa_11e9_a4cc_c82a142f919brow7_col1\" class=\"data row7 col1\" >2.08%</td>\n",
       "            </tr>\n",
       "    </tbody></table>"
      ],
      "text/plain": [
       "<pandas.io.formats.style.Styler at 0x1227b9eb8>"
      ]
     },
     "execution_count": 24,
     "metadata": {},
     "output_type": "execute_result"
    }
   ],
   "source": [
    "#Create bins in which values are based upon Age (with a set of 4 years) \n",
    "bins = [0, 9, 14, 19, 24, 29, 34, 39, 50]\n",
    "\n",
    "#Create labels for these bins\n",
    "Age_labels = [\"<10\", \"10-14\", \"15-19\", \"20-24\", \"25-29\", \"30-34\",\n",
    "                \"35-39\", \"40+\"] # important point: bin labels must be one less(8) than bins(9).\n",
    "\n",
    "# Slice the data and place it into bins\n",
    "purchase_data['Age_bin'] = pd.cut(purchase_data[\"Age\"], bins, labels=Age_labels)\n",
    "purchase_data['Age_bin']\n",
    "\n",
    "# Display Age_bin\n",
    "Ages =  purchase_data.groupby(['Age_bin'])\n",
    "\n",
    "Age_Stats = Ages['SN'].nunique(dropna = True)\n",
    "Age_Stats\n",
    "\n",
    "Full_count = Total_players\n",
    "Age_Percent = (Age_Stats/Total_players) * 100\n",
    "Age_Percent\n",
    "\n",
    "Age_Demo = pd.DataFrame({\"Total Count\": Age_Stats,\n",
    "                         \"Percentage of Players\" :Age_Percent})\n",
    "Age_Demo.index.name = None\n",
    "Age_Demo\n",
    "Age_Demo.style.format({\"Percentage of Players\": \"{:,.2f}%\"})\n"
   ]
  },
  {
   "cell_type": "markdown",
   "metadata": {},
   "source": [
    "## Purchasing Analysis (Age)"
   ]
  },
  {
   "cell_type": "markdown",
   "metadata": {},
   "source": [
    "* Bin the purchase_data data frame by age\n",
    "\n",
    "\n",
    "* Run basic calculations to obtain purchase count, avg. purchase price, avg. purchase total per person etc. in the table below\n",
    "\n",
    "\n",
    "* Create a summary data frame to hold the results\n",
    "\n",
    "\n",
    "* Optional: give the displayed data cleaner formatting\n",
    "\n",
    "\n",
    "* Display the summary data frame"
   ]
  },
  {
   "cell_type": "code",
   "execution_count": 25,
   "metadata": {},
   "outputs": [
    {
     "data": {
      "text/html": [
       "<style  type=\"text/css\" >\n",
       "</style><table id=\"T_ef064a24_a1fa_11e9_a4cc_c82a142f919b\" ><thead>    <tr>        <th class=\"blank level0\" ></th>        <th class=\"col_heading level0 col0\" >Purchase Count</th>        <th class=\"col_heading level0 col1\" >Average Purchase Price</th>        <th class=\"col_heading level0 col2\" >Total Purchase Value</th>        <th class=\"col_heading level0 col3\" >Avg Total Purchase Per Person</th>    </tr></thead><tbody>\n",
       "                <tr>\n",
       "                        <th id=\"T_ef064a24_a1fa_11e9_a4cc_c82a142f919blevel0_row0\" class=\"row_heading level0 row0\" ><10</th>\n",
       "                        <td id=\"T_ef064a24_a1fa_11e9_a4cc_c82a142f919brow0_col0\" class=\"data row0 col0\" >23</td>\n",
       "                        <td id=\"T_ef064a24_a1fa_11e9_a4cc_c82a142f919brow0_col1\" class=\"data row0 col1\" >$3.35</td>\n",
       "                        <td id=\"T_ef064a24_a1fa_11e9_a4cc_c82a142f919brow0_col2\" class=\"data row0 col2\" >$77.13</td>\n",
       "                        <td id=\"T_ef064a24_a1fa_11e9_a4cc_c82a142f919brow0_col3\" class=\"data row0 col3\" >$4.54</td>\n",
       "            </tr>\n",
       "            <tr>\n",
       "                        <th id=\"T_ef064a24_a1fa_11e9_a4cc_c82a142f919blevel0_row1\" class=\"row_heading level0 row1\" >10-14</th>\n",
       "                        <td id=\"T_ef064a24_a1fa_11e9_a4cc_c82a142f919brow1_col0\" class=\"data row1 col0\" >28</td>\n",
       "                        <td id=\"T_ef064a24_a1fa_11e9_a4cc_c82a142f919brow1_col1\" class=\"data row1 col1\" >$2.96</td>\n",
       "                        <td id=\"T_ef064a24_a1fa_11e9_a4cc_c82a142f919brow1_col2\" class=\"data row1 col2\" >$82.78</td>\n",
       "                        <td id=\"T_ef064a24_a1fa_11e9_a4cc_c82a142f919brow1_col3\" class=\"data row1 col3\" >$3.76</td>\n",
       "            </tr>\n",
       "            <tr>\n",
       "                        <th id=\"T_ef064a24_a1fa_11e9_a4cc_c82a142f919blevel0_row2\" class=\"row_heading level0 row2\" >15-19</th>\n",
       "                        <td id=\"T_ef064a24_a1fa_11e9_a4cc_c82a142f919brow2_col0\" class=\"data row2 col0\" >136</td>\n",
       "                        <td id=\"T_ef064a24_a1fa_11e9_a4cc_c82a142f919brow2_col1\" class=\"data row2 col1\" >$3.04</td>\n",
       "                        <td id=\"T_ef064a24_a1fa_11e9_a4cc_c82a142f919brow2_col2\" class=\"data row2 col2\" >$412.89</td>\n",
       "                        <td id=\"T_ef064a24_a1fa_11e9_a4cc_c82a142f919brow2_col3\" class=\"data row2 col3\" >$3.86</td>\n",
       "            </tr>\n",
       "            <tr>\n",
       "                        <th id=\"T_ef064a24_a1fa_11e9_a4cc_c82a142f919blevel0_row3\" class=\"row_heading level0 row3\" >20-24</th>\n",
       "                        <td id=\"T_ef064a24_a1fa_11e9_a4cc_c82a142f919brow3_col0\" class=\"data row3 col0\" >365</td>\n",
       "                        <td id=\"T_ef064a24_a1fa_11e9_a4cc_c82a142f919brow3_col1\" class=\"data row3 col1\" >$3.05</td>\n",
       "                        <td id=\"T_ef064a24_a1fa_11e9_a4cc_c82a142f919brow3_col2\" class=\"data row3 col2\" >$1,114.06</td>\n",
       "                        <td id=\"T_ef064a24_a1fa_11e9_a4cc_c82a142f919brow3_col3\" class=\"data row3 col3\" >$4.32</td>\n",
       "            </tr>\n",
       "            <tr>\n",
       "                        <th id=\"T_ef064a24_a1fa_11e9_a4cc_c82a142f919blevel0_row4\" class=\"row_heading level0 row4\" >25-29</th>\n",
       "                        <td id=\"T_ef064a24_a1fa_11e9_a4cc_c82a142f919brow4_col0\" class=\"data row4 col0\" >101</td>\n",
       "                        <td id=\"T_ef064a24_a1fa_11e9_a4cc_c82a142f919brow4_col1\" class=\"data row4 col1\" >$2.90</td>\n",
       "                        <td id=\"T_ef064a24_a1fa_11e9_a4cc_c82a142f919brow4_col2\" class=\"data row4 col2\" >$293.00</td>\n",
       "                        <td id=\"T_ef064a24_a1fa_11e9_a4cc_c82a142f919brow4_col3\" class=\"data row4 col3\" >$3.81</td>\n",
       "            </tr>\n",
       "            <tr>\n",
       "                        <th id=\"T_ef064a24_a1fa_11e9_a4cc_c82a142f919blevel0_row5\" class=\"row_heading level0 row5\" >30-34</th>\n",
       "                        <td id=\"T_ef064a24_a1fa_11e9_a4cc_c82a142f919brow5_col0\" class=\"data row5 col0\" >73</td>\n",
       "                        <td id=\"T_ef064a24_a1fa_11e9_a4cc_c82a142f919brow5_col1\" class=\"data row5 col1\" >$2.93</td>\n",
       "                        <td id=\"T_ef064a24_a1fa_11e9_a4cc_c82a142f919brow5_col2\" class=\"data row5 col2\" >$214.00</td>\n",
       "                        <td id=\"T_ef064a24_a1fa_11e9_a4cc_c82a142f919brow5_col3\" class=\"data row5 col3\" >$4.12</td>\n",
       "            </tr>\n",
       "            <tr>\n",
       "                        <th id=\"T_ef064a24_a1fa_11e9_a4cc_c82a142f919blevel0_row6\" class=\"row_heading level0 row6\" >35-39</th>\n",
       "                        <td id=\"T_ef064a24_a1fa_11e9_a4cc_c82a142f919brow6_col0\" class=\"data row6 col0\" >41</td>\n",
       "                        <td id=\"T_ef064a24_a1fa_11e9_a4cc_c82a142f919brow6_col1\" class=\"data row6 col1\" >$3.60</td>\n",
       "                        <td id=\"T_ef064a24_a1fa_11e9_a4cc_c82a142f919brow6_col2\" class=\"data row6 col2\" >$147.67</td>\n",
       "                        <td id=\"T_ef064a24_a1fa_11e9_a4cc_c82a142f919brow6_col3\" class=\"data row6 col3\" >$4.76</td>\n",
       "            </tr>\n",
       "            <tr>\n",
       "                        <th id=\"T_ef064a24_a1fa_11e9_a4cc_c82a142f919blevel0_row7\" class=\"row_heading level0 row7\" >40+</th>\n",
       "                        <td id=\"T_ef064a24_a1fa_11e9_a4cc_c82a142f919brow7_col0\" class=\"data row7 col0\" >13</td>\n",
       "                        <td id=\"T_ef064a24_a1fa_11e9_a4cc_c82a142f919brow7_col1\" class=\"data row7 col1\" >$2.94</td>\n",
       "                        <td id=\"T_ef064a24_a1fa_11e9_a4cc_c82a142f919brow7_col2\" class=\"data row7 col2\" >$38.24</td>\n",
       "                        <td id=\"T_ef064a24_a1fa_11e9_a4cc_c82a142f919brow7_col3\" class=\"data row7 col3\" >$3.19</td>\n",
       "            </tr>\n",
       "    </tbody></table>"
      ],
      "text/plain": [
       "<pandas.io.formats.style.Styler at 0x122844588>"
      ]
     },
     "execution_count": 25,
     "metadata": {},
     "output_type": "execute_result"
    }
   ],
   "source": [
    "#Create bins in which values are based upon Age (with a set of 4 years) \n",
    "bins = [0, 9, 14, 19, 24, 29, 34, 39, 50]\n",
    "\n",
    "#Create labels for these bins\n",
    "Age_labels = [\"<10\", \"10-14\", \"15-19\", \"20-24\", \"25-29\", \"30-34\",\n",
    "                \"35-39\", \"40+\"] # important point: bin labels must be one less(8) than bins(9).\n",
    "\n",
    "# Slice the data and place it into bins\n",
    "purchase_data['Age_bin'] = pd.cut(purchase_data['Age'], bins, labels=Age_labels)\n",
    "purchase_data['Age_bin']\n",
    "\n",
    "# Display Age_bin\n",
    "Ages = purchase_data.groupby(['Age_bin'])\n",
    "\n",
    "# Calculate purchase count\n",
    "Purchase_count = Ages['Price'].count()\n",
    "\n",
    "# avg. purchase price, avg. purchase total per person\n",
    "Av_purchase_price = Ages['Price'].mean()\n",
    "\n",
    "# Total purchase value / age group\n",
    "Total_purchase_per_age = Ages['Price'].sum()\n",
    "\n",
    "#Av_Total_purchase_per _person ???????????\n",
    "Av_Total_purchase_per_person = Total_purchase_per_age / Age_Stats\n",
    "\n",
    "PurchaseByAge = pd.DataFrame({\"Purchase Count\": Purchase_count,\n",
    "                         \"Average Purchase Price\" : Av_purchase_price,\n",
    "                         \"Total Purchase Value\" : Total_purchase_per_age,\n",
    "                         \"Avg Total Purchase Per Person\" : Av_Total_purchase_per_person \n",
    "})\n",
    "PurchaseByAge\n",
    "PurchaseByAge.index.name = None\n",
    "PurchaseByAge.style.format({\"Average Purchase Price\": \"${:,.2f}\",\n",
    "                           \"Total Purchase Value\": \"${:,.2f}\",\n",
    "                           \"Avg Total Purchase Per Person\": \"${:,.2f}\"})\n",
    "\n",
    "\n"
   ]
  },
  {
   "cell_type": "markdown",
   "metadata": {},
   "source": [
    "## Top Spenders"
   ]
  },
  {
   "cell_type": "markdown",
   "metadata": {},
   "source": [
    "* Run basic calculations to obtain the results in the table below\n",
    "\n",
    "\n",
    "* Create a summary data frame to hold the results\n",
    "\n",
    "\n",
    "* Sort the total purchase value column in descending order\n",
    "\n",
    "\n",
    "* Optional: give the displayed data cleaner formatting\n",
    "\n",
    "\n",
    "* Display a preview of the summary data frame\n",
    "\n"
   ]
  },
  {
   "cell_type": "code",
   "execution_count": 26,
   "metadata": {},
   "outputs": [
    {
     "data": {
      "text/html": [
       "<style  type=\"text/css\" >\n",
       "</style><table id=\"T_eff337d0_a1fa_11e9_a4cc_c82a142f919b\" ><thead>    <tr>        <th class=\"blank level0\" ></th>        <th class=\"col_heading level0 col0\" >Purchase Count</th>        <th class=\"col_heading level0 col1\" >Average Purchase Price</th>        <th class=\"col_heading level0 col2\" >Total Purchase Value</th>    </tr>    <tr>        <th class=\"index_name level0\" >SN</th>        <th class=\"blank\" ></th>        <th class=\"blank\" ></th>        <th class=\"blank\" ></th>    </tr></thead><tbody>\n",
       "                <tr>\n",
       "                        <th id=\"T_eff337d0_a1fa_11e9_a4cc_c82a142f919blevel0_row0\" class=\"row_heading level0 row0\" >Lisosia93</th>\n",
       "                        <td id=\"T_eff337d0_a1fa_11e9_a4cc_c82a142f919brow0_col0\" class=\"data row0 col0\" >5</td>\n",
       "                        <td id=\"T_eff337d0_a1fa_11e9_a4cc_c82a142f919brow0_col1\" class=\"data row0 col1\" >$3.79</td>\n",
       "                        <td id=\"T_eff337d0_a1fa_11e9_a4cc_c82a142f919brow0_col2\" class=\"data row0 col2\" >$18.96</td>\n",
       "            </tr>\n",
       "            <tr>\n",
       "                        <th id=\"T_eff337d0_a1fa_11e9_a4cc_c82a142f919blevel0_row1\" class=\"row_heading level0 row1\" >Idastidru52</th>\n",
       "                        <td id=\"T_eff337d0_a1fa_11e9_a4cc_c82a142f919brow1_col0\" class=\"data row1 col0\" >4</td>\n",
       "                        <td id=\"T_eff337d0_a1fa_11e9_a4cc_c82a142f919brow1_col1\" class=\"data row1 col1\" >$3.86</td>\n",
       "                        <td id=\"T_eff337d0_a1fa_11e9_a4cc_c82a142f919brow1_col2\" class=\"data row1 col2\" >$15.45</td>\n",
       "            </tr>\n",
       "            <tr>\n",
       "                        <th id=\"T_eff337d0_a1fa_11e9_a4cc_c82a142f919blevel0_row2\" class=\"row_heading level0 row2\" >Chamjask73</th>\n",
       "                        <td id=\"T_eff337d0_a1fa_11e9_a4cc_c82a142f919brow2_col0\" class=\"data row2 col0\" >3</td>\n",
       "                        <td id=\"T_eff337d0_a1fa_11e9_a4cc_c82a142f919brow2_col1\" class=\"data row2 col1\" >$4.61</td>\n",
       "                        <td id=\"T_eff337d0_a1fa_11e9_a4cc_c82a142f919brow2_col2\" class=\"data row2 col2\" >$13.83</td>\n",
       "            </tr>\n",
       "            <tr>\n",
       "                        <th id=\"T_eff337d0_a1fa_11e9_a4cc_c82a142f919blevel0_row3\" class=\"row_heading level0 row3\" >Iral74</th>\n",
       "                        <td id=\"T_eff337d0_a1fa_11e9_a4cc_c82a142f919brow3_col0\" class=\"data row3 col0\" >4</td>\n",
       "                        <td id=\"T_eff337d0_a1fa_11e9_a4cc_c82a142f919brow3_col1\" class=\"data row3 col1\" >$3.40</td>\n",
       "                        <td id=\"T_eff337d0_a1fa_11e9_a4cc_c82a142f919brow3_col2\" class=\"data row3 col2\" >$13.62</td>\n",
       "            </tr>\n",
       "            <tr>\n",
       "                        <th id=\"T_eff337d0_a1fa_11e9_a4cc_c82a142f919blevel0_row4\" class=\"row_heading level0 row4\" >Iskadarya95</th>\n",
       "                        <td id=\"T_eff337d0_a1fa_11e9_a4cc_c82a142f919brow4_col0\" class=\"data row4 col0\" >3</td>\n",
       "                        <td id=\"T_eff337d0_a1fa_11e9_a4cc_c82a142f919brow4_col1\" class=\"data row4 col1\" >$4.37</td>\n",
       "                        <td id=\"T_eff337d0_a1fa_11e9_a4cc_c82a142f919brow4_col2\" class=\"data row4 col2\" >$13.10</td>\n",
       "            </tr>\n",
       "    </tbody></table>"
      ],
      "text/plain": [
       "<pandas.io.formats.style.Styler at 0x12283f320>"
      ]
     },
     "execution_count": 26,
     "metadata": {},
     "output_type": "execute_result"
    }
   ],
   "source": [
    "#Total_purchase_value\n",
    "spenders = purchase_data.groupby('SN')\n",
    "spenders\n",
    "pc = spenders['Price'].sum()\n",
    "pc\n",
    "Total_purchase_value = pc.sort_values(ascending = False)\n",
    "Total_purchase_value.head()\n",
    "\n",
    "#Purchase count\n",
    "spenders = purchase_data.groupby('SN')\n",
    "spenders\n",
    "Count = spenders['Item ID'].count()\n",
    "Count\n",
    "pc1 = pc.sort_values(ascending = False)\n",
    "pc1.head()\n",
    "# Average purchase price\n",
    "spenders = purchase_data.groupby('SN')\n",
    "spenders\n",
    "\n",
    "Average = spenders['Price'].mean()\n",
    "Average\n",
    "\n",
    "Av_Top_spenders = Average.sort_values(ascending = False)\n",
    "Av_Top_spenders.head()\n",
    "\n",
    "Spenders = pd.DataFrame({\"Purchase Count\": Count,\n",
    "                         \"Average Purchase Price\" : Average,\n",
    "                         \"Total Purchase Value\" : pc\n",
    "})\n",
    "Spenders \n",
    "Spenders\n",
    "Sorted_spenders= Spenders.sort_values(['Total Purchase Value'], ascending = False).head()\n",
    "Sorted_spenders\n",
    "FinalTopSpenders = Sorted_spenders.style.format({\n",
    "   \"Average Purchase Price\": \"${:,.2f}\", \"Total Purchase Value\": \"${:,.2f}\"})\n",
    "FinalTopSpenders\n",
    "\n"
   ]
  },
  {
   "cell_type": "markdown",
   "metadata": {},
   "source": [
    "## Most Popular Items"
   ]
  },
  {
   "cell_type": "markdown",
   "metadata": {},
   "source": [
    "* Retrieve the Item ID, Item Name, and Item Price columns\n",
    "\n",
    "\n",
    "* Group by Item ID and Item Name. Perform calculations to obtain purchase count, item price, and total purchase value\n",
    "\n",
    "\n",
    "* Create a summary data frame to hold the results\n",
    "\n",
    "\n",
    "* Sort the purchase count column in descending order\n",
    "\n",
    "\n",
    "* Optional: give the displayed data cleaner formatting\n",
    "\n",
    "\n",
    "* Display a preview of the summary data frame\n",
    "\n"
   ]
  },
  {
   "cell_type": "code",
   "execution_count": 27,
   "metadata": {},
   "outputs": [
    {
     "data": {
      "text/html": [
       "<style  type=\"text/css\" >\n",
       "</style><table id=\"T_f0e0c5e0_a1fa_11e9_a4cc_c82a142f919b\" ><thead>    <tr>        <th class=\"blank\" ></th>        <th class=\"blank level0\" ></th>        <th class=\"col_heading level0 col0\" >Purchase Count</th>        <th class=\"col_heading level0 col1\" >Item Price</th>        <th class=\"col_heading level0 col2\" >Total Purchase Value</th>    </tr>    <tr>        <th class=\"index_name level0\" >Item ID</th>        <th class=\"index_name level1\" >Item Name</th>        <th class=\"blank\" ></th>        <th class=\"blank\" ></th>        <th class=\"blank\" ></th>    </tr></thead><tbody>\n",
       "                <tr>\n",
       "                        <th id=\"T_f0e0c5e0_a1fa_11e9_a4cc_c82a142f919blevel0_row0\" class=\"row_heading level0 row0\" >178</th>\n",
       "                        <th id=\"T_f0e0c5e0_a1fa_11e9_a4cc_c82a142f919blevel1_row0\" class=\"row_heading level1 row0\" >Oathbreaker, Last Hope of the Breaking Storm</th>\n",
       "                        <td id=\"T_f0e0c5e0_a1fa_11e9_a4cc_c82a142f919brow0_col0\" class=\"data row0 col0\" >12</td>\n",
       "                        <td id=\"T_f0e0c5e0_a1fa_11e9_a4cc_c82a142f919brow0_col1\" class=\"data row0 col1\" >$4.23</td>\n",
       "                        <td id=\"T_f0e0c5e0_a1fa_11e9_a4cc_c82a142f919brow0_col2\" class=\"data row0 col2\" >$50.76</td>\n",
       "            </tr>\n",
       "            <tr>\n",
       "                        <th id=\"T_f0e0c5e0_a1fa_11e9_a4cc_c82a142f919blevel0_row1\" class=\"row_heading level0 row1\" >145</th>\n",
       "                        <th id=\"T_f0e0c5e0_a1fa_11e9_a4cc_c82a142f919blevel1_row1\" class=\"row_heading level1 row1\" >Fiery Glass Crusader</th>\n",
       "                        <td id=\"T_f0e0c5e0_a1fa_11e9_a4cc_c82a142f919brow1_col0\" class=\"data row1 col0\" >9</td>\n",
       "                        <td id=\"T_f0e0c5e0_a1fa_11e9_a4cc_c82a142f919brow1_col1\" class=\"data row1 col1\" >$4.58</td>\n",
       "                        <td id=\"T_f0e0c5e0_a1fa_11e9_a4cc_c82a142f919brow1_col2\" class=\"data row1 col2\" >$41.22</td>\n",
       "            </tr>\n",
       "            <tr>\n",
       "                        <th id=\"T_f0e0c5e0_a1fa_11e9_a4cc_c82a142f919blevel0_row2\" class=\"row_heading level0 row2\" >108</th>\n",
       "                        <th id=\"T_f0e0c5e0_a1fa_11e9_a4cc_c82a142f919blevel1_row2\" class=\"row_heading level1 row2\" >Extraction, Quickblade Of Trembling Hands</th>\n",
       "                        <td id=\"T_f0e0c5e0_a1fa_11e9_a4cc_c82a142f919brow2_col0\" class=\"data row2 col0\" >9</td>\n",
       "                        <td id=\"T_f0e0c5e0_a1fa_11e9_a4cc_c82a142f919brow2_col1\" class=\"data row2 col1\" >$3.53</td>\n",
       "                        <td id=\"T_f0e0c5e0_a1fa_11e9_a4cc_c82a142f919brow2_col2\" class=\"data row2 col2\" >$31.77</td>\n",
       "            </tr>\n",
       "            <tr>\n",
       "                        <th id=\"T_f0e0c5e0_a1fa_11e9_a4cc_c82a142f919blevel0_row3\" class=\"row_heading level0 row3\" >82</th>\n",
       "                        <th id=\"T_f0e0c5e0_a1fa_11e9_a4cc_c82a142f919blevel1_row3\" class=\"row_heading level1 row3\" >Nirvana</th>\n",
       "                        <td id=\"T_f0e0c5e0_a1fa_11e9_a4cc_c82a142f919brow3_col0\" class=\"data row3 col0\" >9</td>\n",
       "                        <td id=\"T_f0e0c5e0_a1fa_11e9_a4cc_c82a142f919brow3_col1\" class=\"data row3 col1\" >$4.90</td>\n",
       "                        <td id=\"T_f0e0c5e0_a1fa_11e9_a4cc_c82a142f919brow3_col2\" class=\"data row3 col2\" >$44.10</td>\n",
       "            </tr>\n",
       "            <tr>\n",
       "                        <th id=\"T_f0e0c5e0_a1fa_11e9_a4cc_c82a142f919blevel0_row4\" class=\"row_heading level0 row4\" >19</th>\n",
       "                        <th id=\"T_f0e0c5e0_a1fa_11e9_a4cc_c82a142f919blevel1_row4\" class=\"row_heading level1 row4\" >Pursuit, Cudgel of Necromancy</th>\n",
       "                        <td id=\"T_f0e0c5e0_a1fa_11e9_a4cc_c82a142f919brow4_col0\" class=\"data row4 col0\" >8</td>\n",
       "                        <td id=\"T_f0e0c5e0_a1fa_11e9_a4cc_c82a142f919brow4_col1\" class=\"data row4 col1\" >$1.02</td>\n",
       "                        <td id=\"T_f0e0c5e0_a1fa_11e9_a4cc_c82a142f919brow4_col2\" class=\"data row4 col2\" >$8.16</td>\n",
       "            </tr>\n",
       "    </tbody></table>"
      ],
      "text/plain": [
       "<pandas.io.formats.style.Styler at 0x1216f1240>"
      ]
     },
     "execution_count": 27,
     "metadata": {},
     "output_type": "execute_result"
    }
   ],
   "source": [
    "Popular_items = purchase_data[[\"Item ID\", \"Item Name\", \"Price\"]]\n",
    "Popular_items\n",
    "Grouped = purchase_data.groupby(['Item ID','Item Name'])\n",
    "Purchase_count = Grouped['Price'].count()\n",
    "Purchase_count\n",
    "Total_Purchase_value = Grouped['Price'].sum()\n",
    "Total_Purchase_value\n",
    "Item_price = Total_Purchase_value / Purchase_count\n",
    "Item_price\n",
    "\n",
    "Changed_order = Purchase_count.sort_values(ascending = False)\n",
    "Changed_order\n",
    "\n",
    "\n",
    "Final_popular_items = pd.DataFrame({\"Purchase Count\" : Purchase_count,\n",
    "    \"Item Price\" : Item_price,\n",
    "    \"Total Purchase Value\" : Total_Purchase_value})\n",
    "\n",
    "All_popular_items = Final_popular_items.sort_values([\"Purchase Count\"], ascending=False).head()\n",
    "All_popular_items\n",
    "All_popular_items.style.format({\"Item Price\":\"${:,.2f}\",\n",
    "                               \"Total Purchase Value\": \"${:,.2f}\"})\n"
   ]
  },
  {
   "cell_type": "markdown",
   "metadata": {},
   "source": [
    "## Most Profitable Items"
   ]
  },
  {
   "cell_type": "markdown",
   "metadata": {},
   "source": [
    "* Sort the above table by total purchase value in descending order\n",
    "\n",
    "\n",
    "* Optional: give the displayed data cleaner formatting\n",
    "\n",
    "\n",
    "* Display a preview of the data frame\n",
    "\n"
   ]
  },
  {
   "cell_type": "code",
   "execution_count": 28,
   "metadata": {
    "scrolled": true
   },
   "outputs": [
    {
     "data": {
      "text/html": [
       "<style  type=\"text/css\" >\n",
       "</style><table id=\"T_f1c99342_a1fa_11e9_a4cc_c82a142f919b\" ><thead>    <tr>        <th class=\"blank\" ></th>        <th class=\"blank level0\" ></th>        <th class=\"col_heading level0 col0\" >Purchase Count</th>        <th class=\"col_heading level0 col1\" >Item Price</th>        <th class=\"col_heading level0 col2\" >Total Purchase Value</th>    </tr>    <tr>        <th class=\"index_name level0\" >Item ID</th>        <th class=\"index_name level1\" >Item Name</th>        <th class=\"blank\" ></th>        <th class=\"blank\" ></th>        <th class=\"blank\" ></th>    </tr></thead><tbody>\n",
       "                <tr>\n",
       "                        <th id=\"T_f1c99342_a1fa_11e9_a4cc_c82a142f919blevel0_row0\" class=\"row_heading level0 row0\" >178</th>\n",
       "                        <th id=\"T_f1c99342_a1fa_11e9_a4cc_c82a142f919blevel1_row0\" class=\"row_heading level1 row0\" >Oathbreaker, Last Hope of the Breaking Storm</th>\n",
       "                        <td id=\"T_f1c99342_a1fa_11e9_a4cc_c82a142f919brow0_col0\" class=\"data row0 col0\" >12</td>\n",
       "                        <td id=\"T_f1c99342_a1fa_11e9_a4cc_c82a142f919brow0_col1\" class=\"data row0 col1\" >$4.23</td>\n",
       "                        <td id=\"T_f1c99342_a1fa_11e9_a4cc_c82a142f919brow0_col2\" class=\"data row0 col2\" >$50.76</td>\n",
       "            </tr>\n",
       "            <tr>\n",
       "                        <th id=\"T_f1c99342_a1fa_11e9_a4cc_c82a142f919blevel0_row1\" class=\"row_heading level0 row1\" >82</th>\n",
       "                        <th id=\"T_f1c99342_a1fa_11e9_a4cc_c82a142f919blevel1_row1\" class=\"row_heading level1 row1\" >Nirvana</th>\n",
       "                        <td id=\"T_f1c99342_a1fa_11e9_a4cc_c82a142f919brow1_col0\" class=\"data row1 col0\" >9</td>\n",
       "                        <td id=\"T_f1c99342_a1fa_11e9_a4cc_c82a142f919brow1_col1\" class=\"data row1 col1\" >$4.90</td>\n",
       "                        <td id=\"T_f1c99342_a1fa_11e9_a4cc_c82a142f919brow1_col2\" class=\"data row1 col2\" >$44.10</td>\n",
       "            </tr>\n",
       "            <tr>\n",
       "                        <th id=\"T_f1c99342_a1fa_11e9_a4cc_c82a142f919blevel0_row2\" class=\"row_heading level0 row2\" >145</th>\n",
       "                        <th id=\"T_f1c99342_a1fa_11e9_a4cc_c82a142f919blevel1_row2\" class=\"row_heading level1 row2\" >Fiery Glass Crusader</th>\n",
       "                        <td id=\"T_f1c99342_a1fa_11e9_a4cc_c82a142f919brow2_col0\" class=\"data row2 col0\" >9</td>\n",
       "                        <td id=\"T_f1c99342_a1fa_11e9_a4cc_c82a142f919brow2_col1\" class=\"data row2 col1\" >$4.58</td>\n",
       "                        <td id=\"T_f1c99342_a1fa_11e9_a4cc_c82a142f919brow2_col2\" class=\"data row2 col2\" >$41.22</td>\n",
       "            </tr>\n",
       "            <tr>\n",
       "                        <th id=\"T_f1c99342_a1fa_11e9_a4cc_c82a142f919blevel0_row3\" class=\"row_heading level0 row3\" >92</th>\n",
       "                        <th id=\"T_f1c99342_a1fa_11e9_a4cc_c82a142f919blevel1_row3\" class=\"row_heading level1 row3\" >Final Critic</th>\n",
       "                        <td id=\"T_f1c99342_a1fa_11e9_a4cc_c82a142f919brow3_col0\" class=\"data row3 col0\" >8</td>\n",
       "                        <td id=\"T_f1c99342_a1fa_11e9_a4cc_c82a142f919brow3_col1\" class=\"data row3 col1\" >$4.88</td>\n",
       "                        <td id=\"T_f1c99342_a1fa_11e9_a4cc_c82a142f919brow3_col2\" class=\"data row3 col2\" >$39.04</td>\n",
       "            </tr>\n",
       "            <tr>\n",
       "                        <th id=\"T_f1c99342_a1fa_11e9_a4cc_c82a142f919blevel0_row4\" class=\"row_heading level0 row4\" >103</th>\n",
       "                        <th id=\"T_f1c99342_a1fa_11e9_a4cc_c82a142f919blevel1_row4\" class=\"row_heading level1 row4\" >Singed Scalpel</th>\n",
       "                        <td id=\"T_f1c99342_a1fa_11e9_a4cc_c82a142f919brow4_col0\" class=\"data row4 col0\" >8</td>\n",
       "                        <td id=\"T_f1c99342_a1fa_11e9_a4cc_c82a142f919brow4_col1\" class=\"data row4 col1\" >$4.35</td>\n",
       "                        <td id=\"T_f1c99342_a1fa_11e9_a4cc_c82a142f919brow4_col2\" class=\"data row4 col2\" >$34.80</td>\n",
       "            </tr>\n",
       "    </tbody></table>"
      ],
      "text/plain": [
       "<pandas.io.formats.style.Styler at 0x1228f6908>"
      ]
     },
     "execution_count": 28,
     "metadata": {},
     "output_type": "execute_result"
    }
   ],
   "source": [
    "Final_popular_items = pd.DataFrame({\"Purchase Count\" : Purchase_count,\n",
    "    \"Item Price\" : Item_price,\n",
    "    \"Total Purchase Value\" : Total_Purchase_value})\n",
    "\n",
    "All_popular_items = Final_popular_items.sort_values([\"Total Purchase Value\"], ascending=False).head()\n",
    "All_popular_items\n",
    "\n",
    "formatted_All_popular_items= All_popular_items.style.format({\"Item Price\":\"${:,.2f}\",\n",
    "                               \"Total Purchase Value\": \"${:,.2f}\"})\n",
    "formatted_All_popular_items"
   ]
  },
  {
   "cell_type": "code",
   "execution_count": null,
   "metadata": {},
   "outputs": [],
   "source": []
  },
  {
   "cell_type": "code",
   "execution_count": null,
   "metadata": {},
   "outputs": [],
   "source": []
  }
 ],
 "metadata": {
  "anaconda-cloud": {},
  "kernel_info": {
   "name": "python3"
  },
  "kernelspec": {
   "display_name": "Python 3",
   "language": "python",
   "name": "python3"
  },
  "language_info": {
   "codemirror_mode": {
    "name": "ipython",
    "version": 3
   },
   "file_extension": ".py",
   "mimetype": "text/x-python",
   "name": "python",
   "nbconvert_exporter": "python",
   "pygments_lexer": "ipython3",
   "version": "3.7.3"
  },
  "nteract": {
   "version": "0.2.0"
  }
 },
 "nbformat": 4,
 "nbformat_minor": 2
}
